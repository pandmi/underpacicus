{
 "cells": [
  {
   "cell_type": "code",
   "execution_count": 3,
   "metadata": {},
   "outputs": [],
   "source": [
    "# Import custom library\n",
    "from scripticus import looker_api, bddr, t1_api as mm, beautifulization as bfz, mailicus as ms\n",
    "from scripticus.looker_api import looker_df\n",
    "import imp\n",
    "import warnings\n",
    "warnings.filterwarnings('ignore')\n",
    "\n",
    "\n",
    "######## ----------Please carefully fill in --------- ###########\n",
    "\n",
    "# T1 API credentials\n",
    "client_id = 'xxxx'\n",
    "client_secret = 'xxxx'\n",
    "\n",
    "# T1 Log In credentials\n",
    "username = 'login'\n",
    "password = 'password'\n",
    "\n",
    "# Looker credentials\n",
    "creds = {\n",
    "    'api_endpoint' : 'https://xxxx.looker.com:19999/api/3.0',\n",
    "    'login_url': 'https://xxxx.looker.com:19999/login',\n",
    "    'client_id' : 'xxxx', \n",
    "    'client_secret': 'xxxx'\n",
    "}\n",
    "\n",
    "# ****Set up Filter Criterias for reports****\n",
    "organization_id='000001'\n",
    "organization_name = 'xxxx'\n",
    "advertiser_filter='xxxx'\n",
    "pct_treshold = 0.85\n",
    "up_threshold=50\n",
    "\n",
    "# Looker query ID\n",
    "slug = 'xxxx'\n"
   ]
  },
  {
   "cell_type": "markdown",
   "metadata": {},
   "source": [
    "Hello, good morning, bonjour,\n",
    "\n",
    "below is the overview of the under and outpacing campaigns for **xxx**. \n",
    "\n",
    "Please be aware that this report and all calculations below were created automatically. Small variations with current numbers in UI are possible due to regular updating T1 data. In case you will find some mistakes - please let me know!\n",
    "\n",
    "Also important - the focus here is purely delivery, performance check-up is out of scope this analysis.  All recommended steps should be applied not blindly but keeping performance or branding goals in mind. I also recommend implementing proposed changes not all once, but stepwise - which gives more control on delivery and secure from the opposite problem - overpacing and outpacing. \n"
   ]
  },
  {
   "cell_type": "markdown",
   "metadata": {},
   "source": [
    "<p style=\"font-size:18px\"><b><u>Underpacing Campaigns.</u></b></p>"
   ]
  },
  {
   "cell_type": "markdown",
   "metadata": {},
   "source": [
    "**Actions Recommended:** Update Campaign settings that are preventing spend. <br>\n",
    "\n",
    "<p style=\"margin-left:2%; margin-right:2%;\"> For all <b>spend_cap_type</b>, <b>frequency_type</b>, and <b>frequency_amount</b> highlighted in  <code style=\"background:red;color:black\">red</code>  switch ................... \n"
   ]
  },
  {
   "cell_type": "code",
   "execution_count": 1,
   "metadata": {},
   "outputs": [],
   "source": [
    "up_campaigns_to_check, op_campaigns_to_check, up_campaigns_ids,op_campaigns_ids = looker_api.looker_df(slug, organization_id, organization_name, advertiser_filter, pct_treshold, up_threshold, creds)\n",
    "t1_report = mm.T1_API(username,password,client_id,client_secret)\n",
    "df_upc,campaign_active_up_ids = t1_report.underpacing_campaigns(up_campaigns_ids, up_campaigns_to_check)\n",
    "bfz.up_campaign_table(df_upc)"
   ]
  },
  {
   "cell_type": "markdown",
   "metadata": {},
   "source": [
    "<p style=\"font-size:18px\"><b><u>Underpacing Strategies.</u></b></p>"
   ]
  },
  {
   "cell_type": "markdown",
   "metadata": {},
   "source": [
    "**Actions Recommended:** Update strategy settings that are preventing spend.<br>\n",
    "<p style=\"margin-left:2%; margin-right:2%;\"> <ul> <li> For all <b>pacing_type</b> and <b>f_amount</b> highlighted in <code style=\"background:red;color:black\">red</code> switch ................... . </li> \n",
    "<li>For all <b>f_type</b> and <b>f_amount</b> highlighted in <code style=\"background:slateblue;color:black\">purple</code> the strategies ................... .</li> \n",
    "<li>For all <b>max_bid</b> and <b>goal_value</b> highlighted in <code style=\"background:orange;color:black\">yellow</code> we can see that there is a low ................... .</li> \n",
    "<li>For all <b>goal_value</b> highlighted in <code style=\"background:salmon;color:black\">dark pink</code> the strategy is using a ................... .</li> \n",
    "<li>For all <b>goal_value</b> highlighted in <code style=\"background: skyblue;color:black\">blue</code> the strategy is using an ..........Bids are......... .</li>     \n",
    "<li>For all <b>pacing</b> - strategy budget settings - highlighted in <code style=\"background:lightgreen;color:black\"> green</code> - please ensure that ................... . </li>  \n",
    "<li>For all <b>min_bid</b> highlighted in <code style=\"background:red;color:black\">red</code> please ...................  <b>deal_max</b>, so ................... .</li>\n",
    "<li>For all <b>goal</b> selected as <b>reach</b> and highlighted in <code style=\"background:pink;color:black\">light pink</code> - check ................... .</li> \n",
    "<li>For all <b>daily_spend</b> highlighted in <code style=\"background:grey;color:black\">grey</code>, these strategies have no spend at all.  Here you can use following tools to check for real time matches: </li>\n",
    "\n",
    "<p style=\"margin-left:3%; margin-right:3%;\"><a href=\"https://test.com\"> Bidding global insights </a>to troubleshoot PMP Deals. <br></p>\n",
    "<p style=\"margin-left:3%; margin-right:3%;\">\tHere are some additional resources from the support portal that contain our troubleshooting guides to help with strategies like these:</p>\n",
    "<p style=\"margin-left:3%; margin-right:3%;\"><a href=\"https://test.com\"> No spend troubleshooting </a> <br>\n",
    "</p>\n",
    "\n"
   ]
  },
  {
   "cell_type": "code",
   "execution_count": 2,
   "metadata": {},
   "outputs": [],
   "source": [
    "df_ups, strategy_tr_ids, strategy_ids = t1_report.underpacing_strategies(campaign_active_up_ids)\n",
    "bfz.up_strategy_table(df_ups)"
   ]
  },
  {
   "cell_type": "markdown",
   "metadata": {},
   "source": [
    "<p style=\"font-size:18px\"><b><u>Campaigns pacing out to early.</u></b></p>"
   ]
  },
  {
   "cell_type": "markdown",
   "metadata": {},
   "source": [
    "**Actions Recommended:** <br>\n",
    "\n",
    "**1.\tSwitch strategies to EVEN pacing** in order ................... . <br>\n",
    "**2.\tSet up strategy budgets realistically**, ................... <br><br>"
   ]
  },
  {
   "cell_type": "code",
   "execution_count": 3,
   "metadata": {},
   "outputs": [],
   "source": [
    "df_opc = t1_report.outpacing_campaigns(op_campaigns_ids, op_campaigns_to_check)\n",
    "bfz.table_style(df_opc, 'blue', 'Latest Hour of Activity')"
   ]
  },
  {
   "cell_type": "markdown",
   "metadata": {},
   "source": [
    "**Scheduled hour** represents latest scheduled running active strategy in the particular campaign. <br>\n",
    "**Latest hour of delivery** - represents always performance on day before yesterday. Spend to pace - is calculated for yesterday. <br>"
   ]
  },
  {
   "cell_type": "markdown",
   "metadata": {},
   "source": [
    "Please let me know if you have some questions or some adjustments requests!<br><br>\n",
    "\n",
    "Best,<br>\n",
    "Dmitry\n",
    "\n"
   ]
  },
  {
   "cell_type": "code",
   "execution_count": 10,
   "metadata": {},
   "outputs": [],
   "source": [
    "import time\n",
    "time.sleep(250)"
   ]
  },
  {
   "cell_type": "code",
   "execution_count": 17,
   "metadata": {},
   "outputs": [],
   "source": [
    "%%capture\n",
    "! jupyter nbconvert --to html --no-input Campaigns_monitoring_report.ipynb --output Campaigns_monitoring_report.html"
   ]
  },
  {
   "cell_type": "code",
   "execution_count": 12,
   "metadata": {},
   "outputs": [],
   "source": [
    "import time\n",
    "time.sleep(200)"
   ]
  },
  {
   "cell_type": "code",
   "execution_count": 20,
   "metadata": {},
   "outputs": [],
   "source": [
    "from pathlib import Path\n",
    "report_file = \"Campaigns_monitoring_report.html\"\n",
    "css_file = \"custom.css\""
   ]
  },
  {
   "cell_type": "code",
   "execution_count": 21,
   "metadata": {},
   "outputs": [],
   "source": [
    "testing = True\n",
    "# testing = False\n",
    "\n",
    "email_from = 'dp@pandmi.com'\n",
    "email_recipients = ['dp@pandmi.com']\n",
    "test_email = 'dp@pandmi.com'\n",
    "email_cc = ['dp@pandmi.com']\n",
    "email_subject = 'Underpacing insights'\n",
    "email_attachments = [report_file,css_file]  \n",
    "email_text = '''Hi user, \n",
    "\n",
    "please find attached under pacing reports.  \n",
    "\n",
    "Let me know if you have any questions or some adjustment requests!\n",
    "\n",
    "Best,\n",
    "Dmitry\n",
    "'''\n",
    "\n",
    "if testing:\n",
    "    ms.send_email(msg_from = email_from, msg_to = test_email, subject = email_subject, body = email_text, attachments = email_attachments, password=password)\n",
    "else:\n",
    "    ms.send_email(msg_from = email_from, msg_to = email_recipients,  msg_cc=email_cc, subject = email_subject, body = email_text, attachments = email_attachments, password=password)\n",
    "\n",
    "####### ----------Add created tables to database --------- ###########\n",
    "\n",
    "import sqlite3\n",
    "import pandas as pd\n",
    "from datetime import datetime, date, timedelta\n",
    "df_upc['Review Date'] = date.today().strftime('%Y-%m-%d') \n",
    "df_upc['organization_id'] =organization_id\n",
    "df_upc['organization_name'] =organization_name\n",
    "df_opc['organization_id'] =organization_id\n",
    "df_opc['organization_name'] =organization_name\n",
    "conn= sqlite3.connect('databacicus.db')\n",
    "df_upc.to_sql('underpacing_campaigns', con=conn, if_exists = 'append', index=False)\n",
    "df_opc.to_sql('outpacing_campaigns', con=conn, if_exists = 'append', index=False)"
   ]
  },
  {
   "cell_type": "code",
   "execution_count": null,
   "metadata": {},
   "outputs": [],
   "source": []
  }
 ],
 "metadata": {
  "kernelspec": {
   "display_name": "Python 3",
   "language": "python",
   "name": "python3"
  },
  "language_info": {
   "codemirror_mode": {
    "name": "ipython",
    "version": 3
   },
   "file_extension": ".py",
   "mimetype": "text/x-python",
   "name": "python",
   "nbconvert_exporter": "python",
   "pygments_lexer": "ipython3",
   "version": "3.8.7"
  },
  "toc-autonumbering": false,
  "toc-showcode": false,
  "toc-showmarkdowntxt": false
 },
 "nbformat": 4,
 "nbformat_minor": 4
}
